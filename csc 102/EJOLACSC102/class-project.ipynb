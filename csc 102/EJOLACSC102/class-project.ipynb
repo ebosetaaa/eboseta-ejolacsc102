{
 "cells": [
  {
   "cell_type": "markdown",
   "metadata": {},
   "source": [
    "# NAME\n",
    "EJOLA EBOSETA\n",
    "# MAT.  NO\n",
    "012513175\n",
    "# EMAIL\n",
    "eboseta.ejola@pau.edu.ng\n",
    "# EXERCISE DESCRIPTION\n",
    "Develop the algorithm (pseudocode) and python program to get the difference between a given number and 17, if the number is greater than 17 return double the absolute difference.\n",
    "![pictorial refrence](PICTURE.png)"
   ]
  },
  {
   "cell_type": "markdown",
   "metadata": {},
   "source": [
    "![psuedocode1](Presentation1.jpg)"
   ]
  },
  {
   "cell_type": "markdown",
   "metadata": {},
   "source": [
    "![psuedocode2](Presentation2.jpg)"
   ]
  },
  {
   "cell_type": "markdown",
   "metadata": {},
   "source": []
  },
  {
   "cell_type": "markdown",
   "metadata": {},
   "source": [
    "![psuedocode3](Presentation3.jpg)"
   ]
  },
  {
   "cell_type": "markdown",
   "metadata": {},
   "source": [
    "![psuedocode4](Presentation4.jpg)"
   ]
  },
  {
   "cell_type": "markdown",
   "metadata": {},
   "source": [
    "![psuedocode5](Presentation5.jpg)"
   ]
  },
  {
   "cell_type": "code",
   "execution_count": null,
   "metadata": {},
   "outputs": [],
   "source": []
  }
 ],
 "metadata": {
  "kernelspec": {
   "display_name": "Python 3",
   "language": "python",
   "name": "python3"
  },
  "language_info": {
   "codemirror_mode": {
    "name": "ipython",
    "version": 3
   },
   "file_extension": ".py",
   "mimetype": "text/x-python",
   "name": "python",
   "nbconvert_exporter": "python",
   "pygments_lexer": "ipython3",
   "version": "3.8.3"
  }
 },
 "nbformat": 4,
 "nbformat_minor": 4
}
